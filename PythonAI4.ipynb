{
  "nbformat": 4,
  "nbformat_minor": 0,
  "metadata": {
    "colab": {
      "provenance": [],
      "authorship_tag": "ABX9TyMNewk2P33mMGUfFp8JOuBg",
      "include_colab_link": true
    },
    "kernelspec": {
      "name": "python3",
      "display_name": "Python 3"
    },
    "language_info": {
      "name": "python"
    }
  },
  "cells": [
    {
      "cell_type": "markdown",
      "metadata": {
        "id": "view-in-github",
        "colab_type": "text"
      },
      "source": [
        "<a href=\"https://colab.research.google.com/github/toche7/PythonwithAI/blob/main/PythonAI4.ipynb\" target=\"_parent\"><img src=\"https://colab.research.google.com/assets/colab-badge.svg\" alt=\"Open In Colab\"/></a>"
      ]
    },
    {
      "cell_type": "markdown",
      "source": [
        "# M4: Functions\n"
      ],
      "metadata": {
        "id": "nXF5EM8i35-y"
      }
    },
    {
      "cell_type": "markdown",
      "source": [
        "#### **วัตถุประสงค์ของ Module:**  \n",
        "1. ให้ผู้เรียนเข้าใจการสร้างและใช้งานฟังก์ชันใน Python  \n",
        "2. เรียนรู้การเขียนโค้ดแบบแยกส่วนเพื่อให้ง่ายต่อการจัดการและการอ่าน  \n",
        "3. ใช้ Generative AI (Gemini) ช่วยสร้างและปรับแต่งฟังก์ชันตามโจทย์ที่กำหนด  \n",
        "\n",
        "---"
      ],
      "metadata": {
        "id": "VYQRjzFN4N55"
      }
    },
    {
      "cell_type": "markdown",
      "source": [
        "1. **การสร้างฟังก์ชัน (Defining Functions)**  \n",
        "   - **เนื้อหา:**  \n",
        "     - ฟังก์ชันคืออะไร และประโยชน์ของการใช้ฟังก์ชันในโปรแกรม  \n",
        "     - โครงสร้างของฟังก์ชันใน Python:  \n",
        "       ```python\n",
        "       def function_name(parameters):\n",
        "           # ส่วนการทำงานของฟังก์ชัน\n",
        "           return result\n",
        "       ```  \n",
        "   - **กิจกรรม:**  \n",
        "     - ใช้ Gemini สร้างฟังก์ชัน เช่น:  \n",
        "       ```python\n",
        "       Prompt: \"Write a Python function to calculate the square of a number.\"\n",
        "       ```  \n",
        "     - ทดลองรันโค้ดและส่งค่าให้ฟังก์ชัน  \n",
        "\n",
        "---"
      ],
      "metadata": {
        "id": "htKCyKea4Vqz"
      }
    },
    {
      "cell_type": "code",
      "source": [
        "# prompt: Write a Python function to calculate the square of a number.\n",
        "\n",
        "def square(number):\n",
        "  \"\"\"\n",
        "  This function calculates the square of a given number.\n",
        "\n",
        "  Args:\n",
        "    number: The number to be squared.\n",
        "\n",
        "  Returns:\n",
        "    The square of the number.\n",
        "  \"\"\"\n",
        "  return number * number\n"
      ],
      "metadata": {
        "id": "m1dU0GGg4ZrY"
      },
      "execution_count": null,
      "outputs": []
    },
    {
      "cell_type": "code",
      "source": [
        "n = 10\n",
        "square(n)"
      ],
      "metadata": {
        "colab": {
          "base_uri": "https://localhost:8080/"
        },
        "id": "prCrWCF34h4j",
        "outputId": "535ff040-284a-4567-cf8f-a28b5591d1d3"
      },
      "execution_count": null,
      "outputs": [
        {
          "output_type": "execute_result",
          "data": {
            "text/plain": [
              "100"
            ]
          },
          "metadata": {},
          "execution_count": 2
        }
      ]
    },
    {
      "cell_type": "markdown",
      "source": [],
      "metadata": {
        "id": "l4MWQfEF4hJg"
      }
    },
    {
      "cell_type": "markdown",
      "source": [
        "\n",
        "2. **การใช้พารามิเตอร์และค่าที่คืนกลับ (Parameters and Return Values)**  \n",
        "   - **เนื้อหา:**  \n",
        "     - การส่งค่าเข้าไปในฟังก์ชันด้วยพารามิเตอร์  \n",
        "     - การคืนค่าออกจากฟังก์ชันด้วยคำสั่ง `return`  \n",
        "     ตัวอย่างฟังก์ชันที่มีพารามิเตอร์และค่าที่คืนกลับ:\n",
        "``` python\n",
        "def add_numbers(a, b):\n",
        "    return a + b\n",
        "```\n",
        "``` python\n",
        "result = add_numbers(5, 10)\n",
        "print(\"ผลลัพธ์:\", result)\n",
        "```\n",
        "   - **กิจกรรม:**  \n",
        "     - ใช้ Gemini สร้างฟังก์ชันที่มีพารามิเตอร์และค่าคืนกลับ เช่น:  \n",
        "       ```python\n",
        "       Prompt: \"Write a Python function to add two numbers and return the result.\"\n",
        "       ```  \n",
        "     - ผู้เรียนทดลองเปลี่ยนค่าพารามิเตอร์และดูผลลัพธ์ที่คืนกลับ  \n",
        "\n",
        "---"
      ],
      "metadata": {
        "id": "ohzOSGkZ4xQB"
      }
    },
    {
      "cell_type": "code",
      "source": [
        "# prompt: Write a Python function to add two numbers and return the result\n",
        "\n",
        "def add_numbers(x, y):\n",
        "  \"\"\"\n",
        "  This function adds two numbers and returns the result.\n",
        "\n",
        "  Args:\n",
        "    x: The first number.\n",
        "    y: The second number.\n",
        "\n",
        "  Returns:\n",
        "    The sum of x and y.\n",
        "  \"\"\"\n",
        "  return x + y"
      ],
      "metadata": {
        "id": "GR214UQa4yV9"
      },
      "execution_count": null,
      "outputs": []
    },
    {
      "cell_type": "code",
      "source": [
        "a,b = 20, 50\n",
        "add_numbers(a,b)"
      ],
      "metadata": {
        "colab": {
          "base_uri": "https://localhost:8080/"
        },
        "id": "30nFI4w7479X",
        "outputId": "cf0a8b56-d9f9-4b0c-a99f-349bb282a7cd"
      },
      "execution_count": null,
      "outputs": [
        {
          "output_type": "execute_result",
          "data": {
            "text/plain": [
              "70"
            ]
          },
          "metadata": {},
          "execution_count": 5
        }
      ]
    },
    {
      "cell_type": "code",
      "source": [],
      "metadata": {
        "id": "v2JtHVIl5DHs"
      },
      "execution_count": null,
      "outputs": []
    },
    {
      "cell_type": "code",
      "source": [],
      "metadata": {
        "id": "tWawxC575DEv"
      },
      "execution_count": null,
      "outputs": []
    },
    {
      "cell_type": "markdown",
      "source": [
        "\n",
        "3. **การเขียนโค้ดแบบแยกส่วน (Modular Code)**  \n",
        "   - **เนื้อหา:**  \n",
        "     - หลักการเขียนโปรแกรมแบบแยกส่วนเพื่อให้ง่ายต่อการอ่านและการดูแลรักษา โดยการ save แยกออกมาต่างหาก  \n",
        "     - การเรียกใช้งานฟังก์ชันในโปรแกรมหลัก โดนการเรียกผ่านคำสั่ง import   \n",
        "   - **กิจกรรม:**  \n",
        "     - ให้ Gemini สร้างฟังก์ชันหลายฟังก์ชัน เช่น:  \n",
        "       ```python\n",
        "       Prompt: \"Write a program with two functions: one to calculate the area of a rectangle and one to calculate the perimeter.\"\n",
        "       ```  \n",
        "     - ผู้เรียนรวมฟังก์ชันที่สร้างไว้ในโปรแกรมเดียว  \n",
        "\n",
        "---"
      ],
      "metadata": {
        "id": "EU1n09Km51fw"
      }
    },
    {
      "cell_type": "code",
      "source": [
        "# prompt: Write a program with two functions: one to calculate the area of a rectangle and one to calculate the perimeter\n",
        "\n",
        "def calculate_rectangle_area(length, width):\n",
        "  \"\"\"Calculates the area of a rectangle.\n",
        "\n",
        "  Args:\n",
        "    length: The length of the rectangle.\n",
        "    width: The width of the rectangle.\n",
        "\n",
        "  Returns:\n",
        "    The area of the rectangle.\n",
        "  \"\"\"\n",
        "  return length * width\n",
        "\n",
        "\n",
        "def calculate_rectangle_perimeter(length, width):\n",
        "  \"\"\"Calculates the perimeter of a rectangle.\n",
        "\n",
        "  Args:\n",
        "    length: The length of the rectangle.\n",
        "    width: The width of the rectangle.\n",
        "\n",
        "  Returns:\n",
        "    The perimeter of the rectangle.\n",
        "  \"\"\"\n",
        "  return 2 * (length + width)"
      ],
      "metadata": {
        "id": "E6kmCANw57uF"
      },
      "execution_count": null,
      "outputs": []
    },
    {
      "cell_type": "code",
      "source": [
        "%%writefile calRectang.py\n",
        "def calculate_rectangle_area(length, width):\n",
        "  \"\"\"Calculates the area of a rectangle.\n",
        "\n",
        "  Args:\n",
        "    length: The length of the rectangle.\n",
        "    width: The width of the rectangle.\n",
        "\n",
        "  Returns:\n",
        "    The area of the rectangle.\n",
        "  \"\"\"\n",
        "  return length * width\n",
        "\n",
        "\n",
        "def calculate_rectangle_perimeter(length, width):\n",
        "  \"\"\"Calculates the perimeter of a rectangle.\n",
        "\n",
        "  Args:\n",
        "    length: The length of the rectangle.\n",
        "    width: The width of the rectangle.\n",
        "\n",
        "  Returns:\n",
        "    The perimeter of the rectangle.\n",
        "  \"\"\"\n",
        "  return 2 * (length + width)"
      ],
      "metadata": {
        "colab": {
          "base_uri": "https://localhost:8080/"
        },
        "id": "XPUEzMKb7d2D",
        "outputId": "7e6c4d49-f00b-44bb-c4aa-bf3c1ad3a472"
      },
      "execution_count": null,
      "outputs": [
        {
          "output_type": "stream",
          "name": "stdout",
          "text": [
            "Writing calRectang.py\n"
          ]
        }
      ]
    },
    {
      "cell_type": "code",
      "source": [
        "import calRectang as cal\n",
        "print(cal.calculate_rectangle_area(10,5))\n",
        "print(cal.calculate_rectangle_perimeter(10,5))\n"
      ],
      "metadata": {
        "colab": {
          "base_uri": "https://localhost:8080/"
        },
        "id": "bmlOUYnO76GZ",
        "outputId": "bb0c0b8a-5865-478c-b880-08daf344080b"
      },
      "execution_count": null,
      "outputs": [
        {
          "output_type": "stream",
          "name": "stdout",
          "text": [
            "50\n",
            "30\n"
          ]
        }
      ]
    },
    {
      "cell_type": "code",
      "source": [],
      "metadata": {
        "id": "fD1SgIg035pi"
      },
      "execution_count": null,
      "outputs": []
    },
    {
      "cell_type": "code",
      "execution_count": null,
      "metadata": {
        "id": "36otgNB034-4"
      },
      "outputs": [],
      "source": []
    }
  ]
}