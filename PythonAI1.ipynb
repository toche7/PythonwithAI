{
  "nbformat": 4,
  "nbformat_minor": 0,
  "metadata": {
    "colab": {
      "provenance": [],
      "authorship_tag": "ABX9TyMH9jCrklZ53o5rUclt8uaN",
      "include_colab_link": true
    },
    "kernelspec": {
      "name": "python3",
      "display_name": "Python 3"
    },
    "language_info": {
      "name": "python"
    }
  },
  "cells": [
    {
      "cell_type": "markdown",
      "metadata": {
        "id": "view-in-github",
        "colab_type": "text"
      },
      "source": [
        "<a href=\"https://colab.research.google.com/github/toche7/PythonwithAI/blob/main/PythonAI1.ipynb\" target=\"_parent\"><img src=\"https://colab.research.google.com/assets/colab-badge.svg\" alt=\"Open In Colab\"/></a>"
      ]
    },
    {
      "cell_type": "markdown",
      "source": [
        "# เรียน Python ง่าย ๆ ด้วย AI\n",
        "Easy Python Learning with AI\n",
        "\n",
        "**ระยะเวลาหลักสูตร**\n",
        "\n",
        "1 วัน (6-8 ชั่วโมง)\n",
        "\n",
        "**กลุ่มเป้าหมาย**\n",
        "\n",
        "ผู้เริ่มต้นที่ไม่มีหรือมีประสบการณ์การเขียนโปรแกรมน้อย และต้องการเรียนรู้ Python อย่างรวดเร็วและเข้าใจง่ายด้วยการใช้ Generative AI (Gemini)\n",
        "\n",
        "**วัตถุประสงค์**\n",
        "\n",
        "เพื่อให้ผู้เรียนสามารถเข้าใจพื้นฐานการเขียนโปรแกรมด้วย Python พร้อมเรียนรู้การใช้ Generative AI (Gemini) ผ่าน Google Colab เพื่อทำให้การเขียนโปรแกรมง่ายและน่าสนุกยิ่งขึ้น"
      ],
      "metadata": {
        "id": "Jln-EC5sAOAV"
      }
    },
    {
      "cell_type": "markdown",
      "source": [
        "\n",
        "### **โครงสร้างหลักสูตร**"
      ],
      "metadata": {
        "id": "VoQJqjA6Cuik"
      }
    },
    {
      "cell_type": "markdown",
      "source": [
        "---\n",
        "\n",
        "\n",
        "#### **1. แนะนำหลักสูตร (30 นาที)**  \n",
        "- ภาพรวมของการเขียนโปรแกรมด้วย Python:\n",
        "  - Python คืออะไร และทำไมถึงได้รับความนิยม?\n",
        "  - การนำ Python ไปใช้ในงานต่าง ๆ (Data Science, AI, Web Development ฯลฯ)\n",
        "- แนะนำ Generative AI (Gemini):\n",
        "  - AI ช่วยให้การเรียนรู้ Python ง่ายขึ้นอย่างไร\n",
        "  - ข้อดีของการใช้ Google Colab ในการเขียนโปรแกรม\n",
        "- การตั้งค่าการใช้งาน:\n",
        "  - การเข้าถึง Google Colab\n",
        "  - การตั้งค่า Gemini ใน Colab (แนะนำ API)\n",
        "\n",
        "---\n",
        "\n",
        "#### **2. Basic Python (1 ชั่วโมง)**  \n",
        "- ตัวแปรและชนิดข้อมูล:\n",
        "  - ชนิดข้อมูล: string, int, float, boolean\n",
        "  - ใช้ AI เพื่อสร้างตัวอย่างโค้ด\n",
        "- การรับและแสดงผลข้อมูล:\n",
        "  - ใช้คำสั่ง `print()` และ `input()`\n",
        "  - ฝึกปฏิบัติ: \"สร้างโปรแกรมคำนวณพื้นที่สี่เหลี่ยมผืนผ้า\" ด้วยคำสั่งจาก AI\n",
        "- การคำนวณทางคณิตศาสตร์เบื้องต้น:\n",
        "  - การใช้เครื่องหมาย +, -, *, /, **\n",
        "  - ตัวอย่างจาก AI: \"สร้างสคริปต์การคำนวณง่าย ๆ\"\n",
        "\n",
        "---\n",
        "\n",
        "#### **3. Control Flow (1 ชั่วโมง)**  \n",
        "- คำสั่งเงื่อนไข:\n",
        "  - การใช้ `if`, `elif`, และ `else`\n",
        "  - ฝึกปฏิบัติ: \"สร้างโปรแกรมตรวจสอบตัวเลขว่าเป็นบวก ลบ หรือศูนย์\" ด้วย AI\n",
        "- วนลูป:\n",
        "  - การใช้ลูป `for` และ `while`\n",
        "  - ตัวอย่างจาก AI: \"สร้างลูปพิมพ์ตัวเลข 1 ถึง 10\"\n",
        "- การผสมผสานคำสั่งเงื่อนไขและลูป\n",
        "\n",
        "---\n",
        "\n",
        "#### **4. Functions (1 ชั่วโมง)**  \n",
        "- การสร้างฟังก์ชัน:\n",
        "  - รูปแบบและการใช้งาน\n",
        "  - ใช้ AI เพื่อสร้างฟังก์ชันสำหรับงานเฉพาะ\n",
        "- พารามิเตอร์และค่าที่คืนกลับ:\n",
        "  - ฝึกปฏิบัติ: \"สร้างฟังก์ชันคำนวณแฟกทอเรียลของตัวเลข\" ด้วย AI\n",
        "- การรวมฟังก์ชันที่สร้างโดย AI ให้เป็นโปรแกรมใหญ่ขึ้น\n",
        "\n",
        "---\n",
        "\n",
        "#### **5. Lists (1.5 ชั่วโมง)**  \n",
        "- List:\n",
        "  - การเพิ่ม ลบ และเข้าถึงข้อมูลใน List\n",
        "  - ฝึกปฏิบัติ: \"สร้างตัวจัดการรายการที่ต้องทำด้วย List\" โดยใช้ AI\n",
        "- Slice:\n",
        "  - สามารถแบ่ง List ด้วยการ Slice ได้\n",
        "  - ฝึกปฏิบัติ: \"เขียนโปรแกรมจัดเก็บและดึงข้อมูลผู้ติดต่อ\" ด้วย AI\n",
        "- การปรับแต่งและแก้ไขโค้ดที่สร้างโดย AI\n",
        "\n",
        "---\n",
        "\n",
        "#### **6. Mini Python Project with AI (2 ชั่วโมง)**  \n",
        "- **ตัวเลือกโปรเจกต์**:\n",
        "  1. **การวิเคราะห์ข้อมูล**:\n",
        "     - ใช้ `pandas` เพื่อวิเคราะห์ชุดข้อมูล\n",
        "     - AI: \"สร้างโค้ดคำนวณยอดขายเฉลี่ยจากไฟล์ CSV\"\n",
        "  2. **เกมแบบโต้ตอบ**:\n",
        "     - สร้างเกมเดาเลขหรือเป่ายิ้งฉุบอย่างง่าย\n",
        "     - ใช้ AI เพื่อสร้างและปรับปรุงตรรกะของเกม\n",
        "  3. **แบบทดสอบโต้ตอบ**:\n",
        "     - ใช้ AI สร้างโค้ดสำหรับจัดการคำถามแบบทดสอบและระบบคะแนน\n",
        "- **เป้าหมาย**: ใช้ความรู้ Python และความช่วยเหลือจาก AI เพื่อสร้างและรันแอปพลิเคชันที่ทำงานได้จริง\n",
        "\n",
        "---\n",
        "\n",
        "#### **7. สรุปและก้าวต่อไป (30 นาที)**  \n",
        "- สรุป:\n",
        "  - ทบทวนหัวข้อสำคัญที่ได้เรียน\n",
        "  - พูดคุยเกี่ยวกับการใช้ Generative AI เพื่อให้การเรียนรู้เป็นเรื่องง่ายขึ้น\n",
        "- ก้าวต่อไป:\n",
        "  - แนะนำแหล่งเรียนรู้ Python ต่อเนื่อง\n",
        "  - หัวข้อขั้นสูงที่น่าสำรวจเพิ่มเติมด้วย AI\n",
        "\n",
        "---\n",
        "\n",
        "### **ผลลัพธ์การเรียนรู้**  \n",
        "1. เข้าใจพื้นฐานของ Python (syntax, โครงสร้างข้อมูล, การควบคุมโปรแกรม, ฟังก์ชัน)\n",
        "2. ใช้ Generative AI อย่างมีประสิทธิภาพในการสร้าง แก้ไข และปรับแต่งโค้ด Python\n",
        "3. สร้างโปรเจกต์ขนาดเล็กที่แสดงความรู้ใน Python และ AI\n",
        "\n",
        "### **เครื่องมือและทรัพยากรที่ใช้**  \n",
        "- **Google Colab**: สภาพแวดล้อมเขียนโค้ด Python\n",
        "- **Gemini API**: เครื่องมือ AI สำหรับสร้างและแก้ไขโค้ด\n",
        "- **เอกสารประกอบ**: Cheat sheets, Colab notebooks, และชุดข้อมูลสำหรับการฝึกฝน\n",
        "\n",
        "---\n",
        "\n",
        "หลักสูตรนี้ออกแบบมาเพื่อให้ผู้เรียนเริ่มต้นเขียนโปรแกรมได้ง่าย พร้อมสร้างความสนุกสนานในการเรียนรู้ Python ด้วยความช่วยเหลือจาก AI!"
      ],
      "metadata": {
        "id": "LcO7lI82Cb3g"
      }
    },
    {
      "cell_type": "code",
      "source": [],
      "metadata": {
        "id": "DUdzuKH8CinB"
      },
      "execution_count": null,
      "outputs": []
    },
    {
      "cell_type": "code",
      "source": [],
      "metadata": {
        "id": "eWsqT-B9C1t-"
      },
      "execution_count": null,
      "outputs": []
    },
    {
      "cell_type": "markdown",
      "source": [
        "### Module 1: การแนะนำหลักสูตร (Introduction)\n",
        "\n",
        "---\n",
        "\n",
        "#### **วัตถุประสงค์ของ Module:**\n",
        "1. แนะนำผู้เรียนให้รู้จักกับ Python และ Generative AI (Gemini)\n",
        "2. แสดงให้เห็นถึงศักยภาพและความง่ายในการเรียนรู้ Python ด้วย AI\n",
        "3. เตรียมความพร้อมสำหรับการใช้งาน Google Colab และ Gemini API\n",
        "\n"
      ],
      "metadata": {
        "id": "KIp8WBwdC2wE"
      }
    },
    {
      "cell_type": "markdown",
      "source": [
        "---\n",
        "\n",
        "1. **Python คืออะไร?**\n",
        "   - **เนื้อหา:**\n",
        "     - Python เป็นภาษาโปรแกรมยอดนิยมที่ใช้งานง่ายและเหมาะสำหรับผู้เริ่มต้น\n",
        "     - การประยุกต์ใช้ Python ในด้านต่าง ๆ เช่น:\n",
        "       - การวิเคราะห์ข้อมูล (Data Analysis)\n",
        "       - การพัฒนาเว็บ (Web Development)\n",
        "       - ปัญญาประดิษฐ์ (Artificial Intelligence)\n",
        "   - **กิจกรรม:**\n",
        "     - แสดงตัวอย่างโค้ด Python ง่าย ๆ เช่น:\n",
        "       ```python\n",
        "       print(\"Hello, Python!\")\n",
        "       ```\n",
        "       - ผู้เรียนรันโค้ดใน Google Colab เพื่อดูผลลัพธ์\n"
      ],
      "metadata": {
        "id": "pGmb1uBaD0GD"
      }
    },
    {
      "cell_type": "code",
      "source": [],
      "metadata": {
        "id": "luG4pwjTD-f2"
      },
      "execution_count": null,
      "outputs": []
    },
    {
      "cell_type": "code",
      "source": [],
      "metadata": {
        "id": "2djsxHY0JGCr"
      },
      "execution_count": null,
      "outputs": []
    },
    {
      "cell_type": "code",
      "source": [],
      "metadata": {
        "id": "qXda8cv7JF5X"
      },
      "execution_count": null,
      "outputs": []
    },
    {
      "cell_type": "markdown",
      "source": [
        "---\n",
        "\n",
        "2. **Generative AI (Gemini) คืออะไร?**\n",
        "   - **เนื้อหา:**\n",
        "     - ความหมายของ Generative AI: AI ที่สามารถสร้างเนื้อหา เช่น ข้อความ โค้ด และอื่น ๆ\n",
        "     - ประโยชน์ของการใช้ Generative AI ในการเรียนรู้โปรแกรมมิ่ง:\n",
        "       - ช่วยสร้างโค้ด\n",
        "       - ช่วยแก้ไขและปรับแต่งโค้ด\n",
        "       - ให้คำอธิบายโค้ดเพื่อความเข้าใจที่ดีขึ้น\n",
        "   - **กิจกรรม:**\n",
        "     - แสดงตัวอย่างการใช้ Gemini สร้างโค้ด:\n",
        "       ```python\n",
        "       Prompt: \"Write a Python script to print the first 10 numbers.\"\n",
        "\n",
        "       ```"
      ],
      "metadata": {
        "id": "7FwNIyKzD_Al"
      }
    },
    {
      "cell_type": "code",
      "source": [],
      "metadata": {
        "id": "bDMIdjxQJHWk"
      },
      "execution_count": null,
      "outputs": []
    },
    {
      "cell_type": "code",
      "source": [],
      "metadata": {
        "id": "mJEGYqu-JHMX"
      },
      "execution_count": null,
      "outputs": []
    },
    {
      "cell_type": "code",
      "source": [],
      "metadata": {
        "id": "odlD00WzEH4K"
      },
      "execution_count": null,
      "outputs": []
    },
    {
      "cell_type": "markdown",
      "source": [
        "---\n",
        "\n",
        "3. **ข้อดีของการใช้ Google Colab**\n",
        "   - **เนื้อหา:**\n",
        "     - Google Colab เป็นแพลตฟอร์มออนไลน์ที่ช่วยให้เขียนและรัน Python ได้โดยไม่ต้องติดตั้งซอฟต์แวร์เพิ่มเติม\n",
        "     - คุณสมบัติสำคัญของ Colab:\n",
        "       - ใช้งานฟรีและรองรับการประมวลผล GPU/TPU\n",
        "       - แชร์โน้ตบุ๊กกับผู้อื่นได้ง่าย\n",
        "   - **กิจกรรม:**\n",
        "     - ผู้เรียนเปิด Google Colab และสร้างโน้ตบุ๊กใหม่\n",
        "     - รันโค้ด Python เบื้องต้นใน Colab เช่น:\n",
        "       ```python\n",
        "       print(\"Welcome to Google Colab!\")\n",
        "       ```"
      ],
      "metadata": {
        "id": "3-6Ue_S7EMx_"
      }
    },
    {
      "cell_type": "code",
      "source": [],
      "metadata": {
        "id": "VS5RSxjgJM5N"
      },
      "execution_count": null,
      "outputs": []
    },
    {
      "cell_type": "markdown",
      "source": [
        "### แนวทางการใช้งาน Gemini ใน Colab\n",
        "1. สั่งพร้อมผ่าน input box"
      ],
      "metadata": {
        "id": "nvMlE3VoMwys"
      }
    },
    {
      "cell_type": "code",
      "source": [
        "# prompt: plot sine wave\n",
        "\n",
        "import matplotlib.pyplot as plt\n",
        "import numpy as np\n",
        "\n",
        "# Generate x values from 0 to 2*pi\n",
        "x = np.linspace(0, 2 * np.pi, 100)\n",
        "\n",
        "# Calculate sine wave values\n",
        "y = np.sin(x)\n",
        "\n",
        "# Create the plot\n",
        "plt.plot(x, y)\n",
        "\n",
        "# Add labels and title\n",
        "plt.xlabel(\"x\")\n",
        "plt.ylabel(\"sin(x)\")\n",
        "plt.title(\"Sine Wave\")\n",
        "\n",
        "# Display the plot\n",
        "plt.show()"
      ],
      "metadata": {
        "id": "yg4kAcBeJMwg"
      },
      "execution_count": null,
      "outputs": []
    },
    {
      "cell_type": "markdown",
      "source": [
        "2. เขียนเป็น Comment ใน code, และเขียน code เล็กน้อยเพื่อระบบแนะนำ ใช้ Tab ในการยอมรับ code ที่แนะนำ"
      ],
      "metadata": {
        "id": "UdZBzpXRNDAW"
      }
    },
    {
      "cell_type": "code",
      "source": [
        "# plot sine wave\n",
        "import matplotlib.pyplot as plt\n",
        "import numpy as np\n",
        "\n",
        "# Generate x values from 0 to 2*pi\n",
        "x = np.linspace(0, 2 * np.pi, 100)\n",
        "\n",
        "# Calculate sine wave values\n",
        "y = np.sin(x)\n",
        "\n",
        "# Create the plot\n",
        "plt.plot(x, y)\n",
        "\n",
        "# Add labels and title\n",
        "plt.xlabel(\"x\")\n",
        "plt.ylabel(\"sin(x)\")\n",
        "plt.title(\"Sine Wave\")\n",
        "\n",
        "# Display the plot\n",
        "plt.show()"
      ],
      "metadata": {
        "id": "3DH7oEp5NCkx"
      },
      "execution_count": null,
      "outputs": []
    },
    {
      "cell_type": "markdown",
      "source": [
        "3. สั่งผ่าน AI console windows\n",
        "\n",
        "ทำการเปิด Gemini console windos แล้วพิมคำสั่งเช่น\n",
        "\n",
        "```\n",
        " plot sine wave\n",
        "```\n",
        "\n",
        "ทำการกด Accept and run\n"
      ],
      "metadata": {
        "id": "1zrj6Nw9Acsf"
      }
    },
    {
      "cell_type": "code",
      "source": [],
      "metadata": {
        "id": "5iYrtRqXAcY-"
      },
      "execution_count": null,
      "outputs": []
    },
    {
      "cell_type": "markdown",
      "source": [
        "4. ใช้ AI ช่วยอธิบาย code ที่มีปัญหา เช่น"
      ],
      "metadata": {
        "id": "20VmU4AXNvcb"
      }
    },
    {
      "cell_type": "code",
      "source": [
        "print(x)"
      ],
      "metadata": {
        "id": "9-G3FJY5NvF2"
      },
      "execution_count": null,
      "outputs": []
    },
    {
      "cell_type": "markdown",
      "source": [
        " กด Explain error"
      ],
      "metadata": {
        "id": "WyCEOZhZOB6b"
      }
    },
    {
      "cell_type": "code",
      "source": [],
      "metadata": {
        "id": "39XzgAMxN7X5"
      },
      "execution_count": null,
      "outputs": []
    }
  ]
}