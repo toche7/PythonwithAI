{
  "nbformat": 4,
  "nbformat_minor": 0,
  "metadata": {
    "colab": {
      "provenance": [],
      "authorship_tag": "ABX9TyMp6fReWeFLw7AIjnvps2cp",
      "include_colab_link": true
    },
    "kernelspec": {
      "name": "python3",
      "display_name": "Python 3"
    },
    "language_info": {
      "name": "python"
    }
  },
  "cells": [
    {
      "cell_type": "markdown",
      "metadata": {
        "id": "view-in-github",
        "colab_type": "text"
      },
      "source": [
        "<a href=\"https://colab.research.google.com/github/toche7/PythonwithAI/blob/main/PythonAI2.ipynb\" target=\"_parent\"><img src=\"https://colab.research.google.com/assets/colab-badge.svg\" alt=\"Open In Colab\"/></a>"
      ]
    },
    {
      "cell_type": "markdown",
      "source": [
        "# M2: Basic Python\n"
      ],
      "metadata": {
        "id": "57bmEgf-6icF"
      }
    },
    {
      "cell_type": "markdown",
      "source": [
        "\n",
        "### 1. **ตัวแปรและชนิดข้อมูล (Variables and Data Types)**\n",
        "   - **เนื้อหา:**\n",
        "     - ตัวแปรคืออะไร และการกำหนดค่าให้กับตัวแปรใน Python\n",
        "     - ชนิดข้อมูลพื้นฐาน:\n",
        "       - `int` (จำนวนเต็ม)\n",
        "       - `float` (จำนวนทศนิยม)\n",
        "       - `str` (ข้อความ)\n",
        "       - `bool` (ค่าจริง/เท็จ)\n",
        "   - **กิจกรรม:**\n",
        "     - ใช้ Gemini เพื่อสร้างตัวอย่างโค้ด เช่น:\n",
        "       ```\n",
        "       Prompt: Write a Python script to define a variable with an integer, float, and string.\n",
        "       ```\n",
        "     - ผู้เรียนทดลองปรับค่าตัวแปรในโค้ดและรันผลลัพธ์"
      ],
      "metadata": {
        "id": "dIKT6ZaC6uui"
      }
    },
    {
      "cell_type": "code",
      "source": [
        "# prompt: Write a Python script to define a variable with an integer, float, and string.\n",
        "\n",
        "# Define variables with different data types\n",
        "my_integer = 10\n",
        "my_float = 3.14\n",
        "my_string = \"Hello, Python!\"\n",
        "\n",
        "# Print the variables and their data types\n",
        "print(f\"Integer: {my_integer}, Type: {type(my_integer)}\")\n",
        "print(f\"Float: {my_float}, Type: {type(my_float)}\")\n",
        "print(f\"String: {my_string}, Type: {type(my_string)}\")"
      ],
      "metadata": {
        "id": "GWx2zhGj6v7v"
      },
      "execution_count": null,
      "outputs": []
    },
    {
      "cell_type": "markdown",
      "source": [
        "#### ชนิดข้อมูลพื้นฐานใน Python\n",
        "\n",
        "ใน Python มีชนิดข้อมูลพื้นฐาน (Data Types) หลายประเภทที่ใช้ในการเก็บและจัดการข้อมูล ซึ่งสามารถแบ่งออกเป็นชนิดหลัก ๆ ดังนี้:\n",
        "\n",
        "---\n",
        "**1. Integer (`int`)**\n",
        "- ใช้สำหรับเก็บค่าตัวเลขที่ไม่มีจุดทศนิยม\n",
        "- ตัวอย่าง:\n",
        "```python\n",
        "x = 10\n",
        "y = -5\n",
        "print(type(x))  # ผลลัพธ์: <class 'int'>\n",
        "```\n",
        "\n",
        "---\n",
        "\n",
        "**2. Floating Point (`float`)**\n",
        "- ใช้สำหรับเก็บค่าตัวเลขที่มีจุดทศนิยม\n",
        "- ตัวอย่าง:\n",
        "```python\n",
        "x = 3.14\n",
        "y = -0.001\n",
        "print(type(x))  # ผลลัพธ์: <class 'float'>\n",
        "```\n",
        "\n",
        "---\n",
        "\n",
        "**3. String (`str`)**\n",
        "- ใช้สำหรับเก็บข้อความ (ข้อความต้องอยู่ในเครื่องหมายเดี่ยว `'` หรือคู่ `\"`)\n",
        "- ตัวอย่าง:\n",
        "```python\n",
        "name = \"Alice\"\n",
        "greeting = 'Hello'\n",
        "print(type(name))  # ผลลัพธ์: <class 'str'>\n",
        "```\n",
        "\n",
        "---\n",
        "\n",
        "**4. Boolean (`bool`)**\n",
        "- ใช้สำหรับเก็บค่าที่มีแค่ 2 สถานะ คือ `True` หรือ `False`\n",
        "- ตัวอย่าง:\n",
        "```python\n",
        "is_active = True\n",
        "is_admin = False\n",
        "print(type(is_active))  # ผลลัพธ์: <class 'bool'>\n",
        "```\n",
        "\n",
        "---\n",
        "\n",
        "**5. None Type (`NoneType`)**\n",
        "- ใช้สำหรับเก็บค่าที่ไม่มีข้อมูล (หรือ `null` ในภาษาอื่น)\n",
        "- ตัวอย่าง:\n",
        "```python\n",
        "data = None\n",
        "print(type(data))  # ผลลัพธ์: <class 'NoneType'>\n",
        "```\n",
        "\n",
        "---\n",
        "\n"
      ],
      "metadata": {
        "id": "Mlqj7wMc8Hoj"
      }
    },
    {
      "cell_type": "code",
      "source": [
        "# กำหนดค่าตัวแปรด้วยชนิดข้อมูลต่าง ๆ\n",
        "age = 25                 # int\n",
        "height = 175.5           # float\n",
        "name = \"John Doe\"        # str\n",
        "is_student = False       # bool\n",
        "status = None            # NoneType\n",
        "\n",
        "# แสดงค่าของตัวแปร\n",
        "print(f\"Age: {age}, Type: {type(age)}\")\n",
        "print(f\"Height: {height}, Type: {type(height)}\")\n",
        "print(f\"Name: {name}, Type: {type(name)}\")\n",
        "print(f\"Is Student: {is_student}, Type: {type(is_student)}\")\n",
        "print(f\"Status: {status}, Type: {type(status)}\")"
      ],
      "metadata": {
        "colab": {
          "base_uri": "https://localhost:8080/"
        },
        "id": "pwKXYntB9X07",
        "outputId": "4a16eea8-b648-42a3-8b4a-30007870bb87"
      },
      "execution_count": null,
      "outputs": [
        {
          "output_type": "stream",
          "name": "stdout",
          "text": [
            "Age: 25, Type: <class 'int'>\n",
            "Height: 175.5, Type: <class 'float'>\n",
            "Name: John Doe, Type: <class 'str'>\n",
            "Is Student: False, Type: <class 'bool'>\n",
            "Status: None, Type: <class 'NoneType'>\n"
          ]
        }
      ]
    },
    {
      "cell_type": "markdown",
      "source": [
        "#### หมายเหตุ\n",
        "- Python จะกำหนดชนิดข้อมูลอัตโนมัติตามค่าที่ใส่ให้ตัวแปร\n",
        "- สามารถใช้คำสั่ง `type()` เพื่อตรวจสอบชนิดข้อมูลของตัวแปรได้\n",
        "\n",
        "ชนิดข้อมูลพื้นฐานเหล่านี้เป็นพื้นฐานสำคัญในการเขียนโปรแกรมด้วย Python โดยสามารถนำไปใช้ร่วมกับโครงสร้างข้อมูลและฟังก์ชันต่าง ๆ เพื่อสร้างโปรแกรมที่ซับซ้อนได้"
      ],
      "metadata": {
        "id": "lFgpu59T9gma"
      }
    },
    {
      "cell_type": "markdown",
      "source": [
        "### 2. **การรับและแสดงผลข้อมูล (Input and Output)**\n",
        "   - **เนื้อหา:**\n",
        "     - การใช้คำสั่ง `print()` เพื่อแสดงผลข้อมูล\n",
        "     - การใช้คำสั่ง `input()` เพื่อรับค่าจากผู้ใช้งาน\n",
        "   - **กิจกรรม:**\n",
        "     - ใช้ Gemini เพื่อสร้างโค้ดตัวอย่าง เช่น:\n",
        "       ```\n",
        "       Prompt: Generate a Python program that asks for the user's name and greets them.\n",
        "       ```\n",
        "       - ให้ผู้เรียนปรับแต่งข้อความต้อนรับและรันโปรแกรม"
      ],
      "metadata": {
        "id": "s7F421nM7CoT"
      }
    },
    {
      "cell_type": "code",
      "source": [
        "# prompt: Generate a Python program that asks for the user's name and greets them.\n",
        "\n",
        "name = input(\"Please enter your name: \")\n",
        "print(f\"Hello, {name}!\")"
      ],
      "metadata": {
        "id": "YTcIxPqf7Evz"
      },
      "execution_count": null,
      "outputs": []
    },
    {
      "cell_type": "markdown",
      "source": [
        "\n",
        "\n",
        "### 3. **การคำนวณทางคณิตศาสตร์เบื้องต้น (Basic Arithmetic Operations)**\n",
        "   - **เนื้อหา:**\n",
        "     - การใช้เครื่องหมายทางคณิตศาสตร์ เช่น `+`, `-`, `*`, `/`, `**` (ยกกำลัง)\n",
        "     - การนำผลลัพธ์ที่คำนวณได้ไปใช้ในตัวแปรใหม่\n",
        "   - **กิจกรรม:**\n",
        "     - ใช้ Gemini เพื่อสร้างตัวอย่างโค้ด เช่น:\n",
        "       ```\n",
        "       Prompt: Write a example of using basic arithmetic operations.\n",
        "       ```\n",
        "     - ผู้เรียนสามารถเปลี่ยนค่า `width` และ `height` และดูผลลัพธ์"
      ],
      "metadata": {
        "id": "AbEY-9x17TZC"
      }
    },
    {
      "cell_type": "code",
      "source": [
        "# prompt: write a example of using basic arithmetic operations\n",
        "\n",
        "# Basic Arithmetic Operations\n",
        "\n",
        "# Addition\n",
        "a = 10\n",
        "b = 5\n",
        "sum_result = a + b\n",
        "print(f\"The sum of {a} and {b} is: {sum_result}\")\n",
        "\n",
        "# Subtraction\n",
        "difference_result = a - b\n",
        "print(f\"The difference between {a} and {b} is: {difference_result}\")\n",
        "\n",
        "# Multiplication\n",
        "product_result = a * b\n",
        "print(f\"The product of {a} and {b} is: {product_result}\")\n",
        "\n",
        "# Division\n",
        "division_result = a / b\n",
        "print(f\"The division of {a} by {b} is: {division_result}\")\n",
        "\n",
        "# Exponentiation\n",
        "exponent_result = a ** b # a raised to the power of b\n",
        "print(f\"{a} raised to the power of {b} is: {exponent_result}\")\n",
        "\n",
        "# Modulo (remainder of division)\n",
        "modulo_result = a % b\n",
        "print(f\"The remainder of {a} divided by {b} is: {modulo_result}\")\n",
        "\n",
        "# Integer Division\n",
        "integer_division_result = a // b\n",
        "print(f\"The integer division of {a} by {b} is: {integer_division_result}\")"
      ],
      "metadata": {
        "colab": {
          "base_uri": "https://localhost:8080/"
        },
        "id": "Ergae39I-oqs",
        "outputId": "6c18a819-d20b-44d8-cf0f-85e2c0aee4f9"
      },
      "execution_count": null,
      "outputs": [
        {
          "output_type": "stream",
          "name": "stdout",
          "text": [
            "The sum of 10 and 5 is: 15\n",
            "The difference between 10 and 5 is: 5\n",
            "The product of 10 and 5 is: 50\n",
            "The division of 10 by 5 is: 2.0\n",
            "10 raised to the power of 5 is: 100000\n",
            "The remainder of 10 divided by 5 is: 0\n",
            "The integer division of 10 by 5 is: 2\n"
          ]
        }
      ]
    },
    {
      "cell_type": "code",
      "source": [],
      "metadata": {
        "id": "hJabtePr8Jxu"
      },
      "execution_count": null,
      "outputs": []
    },
    {
      "cell_type": "markdown",
      "source": [],
      "metadata": {
        "id": "tmw24sTO_63C"
      }
    },
    {
      "cell_type": "code",
      "source": [],
      "metadata": {
        "id": "ywV_O0IO_6f4"
      },
      "execution_count": null,
      "outputs": []
    }
  ]
}