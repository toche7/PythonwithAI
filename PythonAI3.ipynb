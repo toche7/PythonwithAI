{
  "nbformat": 4,
  "nbformat_minor": 0,
  "metadata": {
    "colab": {
      "provenance": [],
      "authorship_tag": "ABX9TyMIwVhctt08Z8CHJ1IVTgaw",
      "include_colab_link": true
    },
    "kernelspec": {
      "name": "python3",
      "display_name": "Python 3"
    },
    "language_info": {
      "name": "python"
    }
  },
  "cells": [
    {
      "cell_type": "markdown",
      "metadata": {
        "id": "view-in-github",
        "colab_type": "text"
      },
      "source": [
        "<a href=\"https://colab.research.google.com/github/toche7/PythonwithAI/blob/main/PythonAI3.ipynb\" target=\"_parent\"><img src=\"https://colab.research.google.com/assets/colab-badge.svg\" alt=\"Open In Colab\"/></a>"
      ]
    },
    {
      "cell_type": "markdown",
      "source": [],
      "metadata": {
        "id": "cI2OShPk3DAT"
      }
    },
    {
      "cell_type": "markdown",
      "source": [
        "# Module 3: Control Flow (1 ชั่วโมง)"
      ],
      "metadata": {
        "id": "ZkZuJiFHEm4O"
      }
    },
    {
      "cell_type": "markdown",
      "source": [
        "---\n",
        "\n",
        "#### **วัตถุประสงค์ของ Module:**\n",
        "1. ให้ผู้เรียนเข้าใจวิธีการควบคุมลำดับการทำงานของโปรแกรมใน Python\n",
        "2. เรียนรู้การใช้คำสั่งเงื่อนไข (`if`, `elif`, `else`) และการวนลูป (`for`, `while`)\n",
        "3. ฝึกการเขียนและวิเคราะห์โค้ดที่สร้างโดย AI (Gemini) เพื่อแก้ปัญหาต่าง ๆ\n"
      ],
      "metadata": {
        "id": "o-7DBbXhE1iH"
      }
    },
    {
      "cell_type": "markdown",
      "source": [
        "---\n",
        "\n",
        "#### **หัวข้อใน Module:**\n",
        "\n",
        "1. **คำสั่งเงื่อนไข (Conditional Statements)**\n",
        "   - **เนื้อหา:**\n",
        "     - การใช้คำสั่ง `if`, `elif`, และ `else` เพื่อควบคุมการทำงานของโปรแกรมตามเงื่อนไข\n",
        "     - การเปรียบเทียบค่า:\n",
        "       - ตัวดำเนินการเปรียบเทียบ (`==`, `!=`, `<`, `>`, `<=`, `>=`)\n",
        "       - ตัวดำเนินการตรรกะ (`and`, `or`, `not`)\n",
        "   - **กิจกรรม:**\n",
        "     - ใช้ Gemini เพื่อสร้างโค้ดตัวอย่าง เช่น:\n",
        "       ```python\n",
        "       Prompt: \"Write a Python program to check if a number is positive, negative, or zero without using def.\"\n",
        "       ```\n",
        "     - ผู้เรียนปรับแต่งเงื่อนไขในโค้ดและรันผลลัพธ์\n"
      ],
      "metadata": {
        "id": "RGEXjeswE7Wi"
      }
    },
    {
      "cell_type": "code",
      "source": [
        "# prompt: Write a Python program to check if a number is positive, negative, or zero without using def.\n",
        "\n",
        "number = 10\n",
        "\n",
        "if number > 0:\n",
        "  print(\"Positive number\")\n",
        "elif number == 0:\n",
        "  print(\"Zero\")\n",
        "else:\n",
        "  print(\"Negative number\")\n"
      ],
      "metadata": {
        "colab": {
          "base_uri": "https://localhost:8080/"
        },
        "id": "mVLH8J7eFKbw",
        "outputId": "3c7e8da3-a008-49a8-f74f-8c70cec1f87a"
      },
      "execution_count": null,
      "outputs": [
        {
          "output_type": "stream",
          "name": "stdout",
          "text": [
            "Positive number\n"
          ]
        }
      ]
    },
    {
      "cell_type": "markdown",
      "source": [
        "\n",
        "2. **การวนลูป (Loops)**\n",
        "   - **เนื้อหา:**\n",
        "     - การใช้ `for` และ `while` เพื่อวนลูปข้อมูลหรือทำงานซ้ำ\n",
        "     - การใช้คำสั่งพิเศษในลูป:\n",
        "       - `break` (หยุดลูป)\n",
        "       - `continue` (ข้ามไปยังรอบถัดไป)\n",
        "   - **กิจกรรม:**\n",
        "     - ใช้ Gemini เพื่อสร้างลูป เช่น:\n",
        "       ```python\n",
        "       Prompt: Write a Python loop to print numbers from 1 to 10.\n",
        "       ```\n",
        "     - ผู้เรียนทดลองเพิ่มเงื่อนไขในลูป เช่น พิมพ์เฉพาะเลขคู่"
      ],
      "metadata": {
        "id": "J9TsMZQeFiG4"
      }
    },
    {
      "cell_type": "code",
      "source": [
        "# prompt: Write a for loop to print numbers from 1 to 10.\n",
        "\n",
        "for i in range(1, 11):\n",
        "  print(i)\n"
      ],
      "metadata": {
        "colab": {
          "base_uri": "https://localhost:8080/"
        },
        "id": "w0Bb9CZBFkda",
        "outputId": "2821f6e7-a0c2-401a-a24c-17304b52c528"
      },
      "execution_count": null,
      "outputs": [
        {
          "output_type": "stream",
          "name": "stdout",
          "text": [
            "1\n",
            "2\n",
            "3\n",
            "4\n",
            "5\n",
            "6\n",
            "7\n",
            "8\n",
            "9\n",
            "10\n"
          ]
        }
      ]
    },
    {
      "cell_type": "code",
      "source": [
        "# prompt: Write a while loop to print numbers from 1 to 10\n",
        "\n",
        "i = 1\n",
        "while i <= 10:\n",
        "  print(i)\n",
        "  i += 1"
      ],
      "metadata": {
        "colab": {
          "base_uri": "https://localhost:8080/"
        },
        "id": "GcM8J1luFkCs",
        "outputId": "68c8420b-93c4-4de0-e1b2-677750836399"
      },
      "execution_count": null,
      "outputs": [
        {
          "output_type": "stream",
          "name": "stdout",
          "text": [
            "1\n",
            "2\n",
            "3\n",
            "4\n",
            "5\n",
            "6\n",
            "7\n",
            "8\n",
            "9\n",
            "10\n"
          ]
        }
      ]
    },
    {
      "cell_type": "markdown",
      "source": [
        "\n",
        "\n",
        "3. **การผสมผสานคำสั่งเงื่อนไขและลูป**\n",
        "   - **เนื้อหา:**\n",
        "     - การใช้คำสั่งเงื่อนไขร่วมกับลูปเพื่อแก้ปัญหาที่ซับซ้อนยิ่งขึ้น\n",
        "   - **กิจกรรม:**\n",
        "     - ใช้ Gemini สร้างโปรแกรม เช่น:\n",
        "       ```python\n",
        "       Prompt: \"Write a Python program to print all even numbers between 1 and 20.\"\n",
        "       ```\n",
        "     - ผู้เรียนทดลองปรับค่าตัวแปรและเงื่อนไขในโปรแกรม"
      ],
      "metadata": {
        "id": "ZV_zyNv5Fogo"
      }
    },
    {
      "cell_type": "code",
      "source": [
        "# prompt: Write a Python program to print all even numbers between 1 and 20 using if control flow.\n",
        "\n",
        "for i in range(1, 21):\n",
        "  if i % 2 == 0:\n",
        "    print(i)"
      ],
      "metadata": {
        "colab": {
          "base_uri": "https://localhost:8080/"
        },
        "id": "WKE-lSOdFprw",
        "outputId": "ea14e50e-9789-49fc-faa5-c00c39cb9b02"
      },
      "execution_count": null,
      "outputs": [
        {
          "output_type": "stream",
          "name": "stdout",
          "text": [
            "2\n",
            "4\n",
            "6\n",
            "8\n",
            "10\n",
            "12\n",
            "14\n",
            "16\n",
            "18\n",
            "20\n"
          ]
        }
      ]
    },
    {
      "cell_type": "code",
      "source": [],
      "metadata": {
        "id": "cTz3wgRNFpkQ"
      },
      "execution_count": null,
      "outputs": []
    }
  ]
}