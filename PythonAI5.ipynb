{
  "nbformat": 4,
  "nbformat_minor": 0,
  "metadata": {
    "colab": {
      "provenance": [],
      "authorship_tag": "ABX9TyPsrwBEP1cGT0apvF3gxg/d",
      "include_colab_link": true
    },
    "kernelspec": {
      "name": "python3",
      "display_name": "Python 3"
    },
    "language_info": {
      "name": "python"
    }
  },
  "cells": [
    {
      "cell_type": "markdown",
      "metadata": {
        "id": "view-in-github",
        "colab_type": "text"
      },
      "source": [
        "<a href=\"https://colab.research.google.com/github/toche7/PythonwithAI/blob/main/PythonAI5.ipynb\" target=\"_parent\"><img src=\"https://colab.research.google.com/assets/colab-badge.svg\" alt=\"Open In Colab\"/></a>"
      ]
    },
    {
      "cell_type": "markdown",
      "source": [
        "# M5: Lists"
      ],
      "metadata": {
        "id": "iQjMLUKMtHgn"
      }
    },
    {
      "cell_type": "markdown",
      "source": [
        "\n",
        "#### **วัตถุประสงค์ของ Module:**  \n",
        "1. ให้ผู้เรียนเข้าใจการใช้งานโครงสร้างข้อมูล **List**  ใน Python  \n",
        "2. สามารถแบ่ง List ด้วยวิธี Slice ได้\n",
        "3. สามารถจัดการข้อมูลที่หลากหลายด้วยวิธีที่มีประสิทธิภาพ  \n"
      ],
      "metadata": {
        "id": "ld18bdHMtSaP"
      }
    },
    {
      "cell_type": "markdown",
      "source": [
        "## 1. การใช้งาน List ใน Python\n",
        "- **เนื้อหา:**  \n",
        "   - List คืออะไร?  \n",
        "     - ใช้สำหรับเก็บข้อมูลหลายค่าไว้ในตัวแปรเดียว  \n",
        "     - การเข้าถึงสมาชิกใน List ตามดัชนี (Index)  \n",
        "   - การเพิ่มและลบข้อมูลใน List:  \n",
        "     - การใช้คำสั่ง `append()`, `remove()`, `insert()`, และ `pop()`  \n",
        "   - ตัวอย่างการใช้งาน:  \n",
        "     ```python\n",
        "     tasks = [\"เรียน Python\", \"ทบทวนบทเรียน\", \"ทำการบ้าน\"]\n",
        "     tasks.append(\"อ่านหนังสือ\")  # เพิ่มข้อมูล\n",
        "     print(tasks)\n",
        "     tasks.remove(\"ทบทวนบทเรียน\")  # ลบข้อมูล\n",
        "     print(tasks)\n",
        "     ```  \n",
        "\n",
        "- **กิจกรรม:**  \n",
        "   - ใช้ Generative AI (Gemini) สร้างโปรแกรม \"ตัวจัดการรายการที่ต้องทำ (To-Do List)\"  \n",
        "     - **Prompt ตัวอย่าง:**  \n",
        "       ```python\n",
        "       \"Write a Python program to manage a to-do list. Add, remove, and display tasks.\"\n",
        "       ```  \n",
        "     \n",
        "   - ให้ผู้เรียนรันและปรับแต่งโปรแกรม เช่น เพิ่มฟังก์ชันค้นหางาน  \n"
      ],
      "metadata": {
        "id": "1_W0wzq3tU32"
      }
    },
    {
      "cell_type": "code",
      "source": [
        "# prompt: Write an example of using list in python\n",
        "\n",
        "tasks = [\"เรียน Python\", \"ทบทวนบทเรียน\", \"ทำการบ้าน\"]\n",
        "tasks.append(\"อ่านหนังสือ\")  # เพิ่มข้อมูล\n",
        "print(tasks)\n",
        "tasks.remove(\"ทบทวนบทเรียน\")  # ลบข้อมูล\n",
        "print(tasks)\n"
      ],
      "metadata": {
        "colab": {
          "base_uri": "https://localhost:8080/"
        },
        "id": "yvBeLR17vRVw",
        "outputId": "1974907e-8e39-4100-85e7-78bf30930ef3"
      },
      "execution_count": null,
      "outputs": [
        {
          "output_type": "stream",
          "name": "stdout",
          "text": [
            "['เรียน Python', 'ทบทวนบทเรียน', 'ทำการบ้าน', 'อ่านหนังสือ']\n",
            "['เรียน Python', 'ทำการบ้าน', 'อ่านหนังสือ']\n"
          ]
        }
      ]
    },
    {
      "cell_type": "code",
      "source": [
        "# prompt: Write an example of using list in python\n",
        "\n",
        "# Creating a list of numbers\n",
        "numbers = [1, 2, 3, 4, 5]\n",
        "print(\"Original list:\", numbers)\n",
        "\n",
        "# Accessing elements by index\n",
        "print(\"Element at index 0:\", numbers[0])\n",
        "print(\"Element at index 3:\", numbers[3])\n",
        "\n",
        "# Adding elements to the end of the list\n",
        "numbers.append(6)\n",
        "print(\"List after appending 6:\", numbers)\n",
        "\n",
        "# Inserting an element at a specific index\n",
        "numbers.insert(0, 0)\n",
        "print(\"List after inserting 0 at index 0:\", numbers)\n",
        "\n",
        "# Removing an element by value\n",
        "numbers.remove(3)\n",
        "print(\"List after removing 3:\", numbers)\n",
        "\n",
        "# Removing an element by index (and returning the removed element)\n",
        "removed_element = numbers.pop(4)\n",
        "print(\"List after popping element at index 4:\", numbers)\n",
        "print(\"Removed element:\", removed_element)\n"
      ],
      "metadata": {
        "id": "xn7wfrVTvd3k"
      },
      "execution_count": null,
      "outputs": []
    },
    {
      "cell_type": "markdown",
      "source": [
        "## 2. การ Slice ใน Python\n",
        "\n",
        "การ **Slice** คือการตัดส่วนข้อมูลใน **List** เพื่อนำค่าบางส่วนมาใช้งาน โดยอาศัยการระบุตำแหน่งการ slice ของสมาชิกใน List ซึ่งเป็นฟีเจอร์ที่ทรงพลังและใช้งานง่ายใน Python  \n",
        "\n",
        "---\n",
        "\n",
        "### **รูปแบบการ Slice List**\n",
        "รูปแบบพื้นฐานของการ Slice มีดังนี้:\n",
        "\n",
        "```python\n",
        "list[start:stop:step]\n",
        "```\n",
        "- `start` : ตำแหน่งเริ่มต้นของการ Slice\n",
        "- `stop` : ตำแหน่งสิ้นสุด  \n",
        "- `step` : ระบุจำนวนก้าวในการข้ามสมาชิก (ค่าเริ่มต้นคือ 1)  \n",
        "\n",
        "---"
      ],
      "metadata": {
        "id": "MJQyTVPNtisn"
      }
    },
    {
      "cell_type": "markdown",
      "source": [
        "### **ตัวอย่างการ Slice List**\n",
        "\n",
        "#### **1. Slice เฉพาะบางส่วนของ List**\n",
        "```python\n",
        "numbers = [0, 1, 2, 3, 4, 5, 6, 7, 8, 9]\n",
        "print(numbers[2:5])  # Output: [2, 3, 4]\n",
        "```\n",
        "- เริ่มต้นที่ index `2` (ค่า 2)  \n",
        "- หยุดที่ index `5` แต่ไม่รวมค่าในตำแหน่งนี้  \n",
        "\n",
        "---"
      ],
      "metadata": {
        "id": "xfESytuqxyke"
      }
    },
    {
      "cell_type": "code",
      "source": [],
      "metadata": {
        "id": "BLrKLdV1ygbP"
      },
      "execution_count": null,
      "outputs": []
    },
    {
      "cell_type": "code",
      "source": [],
      "metadata": {
        "id": "N5XIHhXtygGp"
      },
      "execution_count": null,
      "outputs": []
    },
    {
      "cell_type": "code",
      "source": [],
      "metadata": {
        "id": "A4yu_8lexyCj"
      },
      "execution_count": null,
      "outputs": []
    },
    {
      "cell_type": "markdown",
      "source": [
        "#### **2. Slice จากจุดเริ่มต้นถึงตำแหน่งที่กำหนด**  \n",
        "หากไม่ใส่ค่า `start` จะเริ่มต้นที่ตำแหน่งแรกของ List  \n",
        "```python\n",
        "numbers = [0, 1, 2, 3, 4, 5]\n",
        "print(numbers[:4])  # Output: [0, 1, 2, 3]\n",
        "```\n",
        "\n",
        "---"
      ],
      "metadata": {
        "id": "JhvHAEfnx4Ww"
      }
    },
    {
      "cell_type": "code",
      "source": [],
      "metadata": {
        "id": "chCV-Qfwyh3x"
      },
      "execution_count": null,
      "outputs": []
    },
    {
      "cell_type": "code",
      "source": [],
      "metadata": {
        "id": "J1Q34J_Kyh0P"
      },
      "execution_count": null,
      "outputs": []
    },
    {
      "cell_type": "code",
      "source": [],
      "metadata": {
        "id": "cz7s1LSCyhw7"
      },
      "execution_count": null,
      "outputs": []
    },
    {
      "cell_type": "markdown",
      "source": [
        "\n",
        "#### **3. Slice จากตำแหน่งที่กำหนดจนถึงท้าย List**  \n",
        "หากไม่ใส่ค่า `stop` จะ Slice จนถึงตำแหน่งสุดท้าย  \n",
        "```python\n",
        "numbers = [0, 1, 2, 3, 4, 5]\n",
        "print(numbers[2:])  # Output: [2, 3, 4, 5]\n",
        "```\n",
        "\n",
        "---"
      ],
      "metadata": {
        "id": "u25Kr320x8-X"
      }
    },
    {
      "cell_type": "code",
      "source": [],
      "metadata": {
        "id": "vSVEJgtFyi_6"
      },
      "execution_count": null,
      "outputs": []
    },
    {
      "cell_type": "code",
      "source": [],
      "metadata": {
        "id": "uJdrNi_0yi8s"
      },
      "execution_count": null,
      "outputs": []
    },
    {
      "cell_type": "code",
      "source": [],
      "metadata": {
        "id": "GFi4X6Oqyi5N"
      },
      "execution_count": null,
      "outputs": []
    },
    {
      "cell_type": "markdown",
      "source": [
        "\n",
        "#### **4. Slice โดยใช้ Step (การข้ามสมาชิก)**  \n",
        "การกำหนดค่า `step` จะช่วยให้ข้ามสมาชิกใน List ตามจำนวนที่กำหนด  \n",
        "```python\n",
        "numbers = [0, 1, 2, 3, 4, 5, 6, 7, 8, 9]\n",
        "print(numbers[::2])  # Output: [0, 2, 4, 6, 8] (ข้ามทีละ 2)\n",
        "print(numbers[1::2]) # Output: [1, 3, 5, 7, 9] (เริ่มที่ index 1 แล้วข้ามทีละ 2)\n",
        "```\n",
        "\n",
        "---"
      ],
      "metadata": {
        "id": "78MNHlo6x_fM"
      }
    },
    {
      "cell_type": "code",
      "source": [],
      "metadata": {
        "id": "SSV_G6aiyk_A"
      },
      "execution_count": null,
      "outputs": []
    },
    {
      "cell_type": "code",
      "source": [],
      "metadata": {
        "id": "oRWsaVzZyk7u"
      },
      "execution_count": null,
      "outputs": []
    },
    {
      "cell_type": "code",
      "source": [],
      "metadata": {
        "id": "KUu0lmP2yk4m"
      },
      "execution_count": null,
      "outputs": []
    }
  ]
}